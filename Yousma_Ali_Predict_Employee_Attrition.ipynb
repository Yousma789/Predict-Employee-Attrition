{
  "nbformat": 4,
  "nbformat_minor": 0,
  "metadata": {
    "colab": {
      "private_outputs": true,
      "provenance": []
    },
    "kernelspec": {
      "name": "python3",
      "display_name": "Python 3"
    },
    "language_info": {
      "name": "python"
    }
  },
  "cells": [
    {
      "cell_type": "code",
      "execution_count": null,
      "metadata": {
        "id": "go2gmN8lfG8r"
      },
      "outputs": [],
      "source": [
        "import pandas as pd\n",
        "import numpy as np\n",
        "import matplotlib.pyplot as plt\n",
        "import seaborn as sns\n",
        "import warnings\n",
        "warnings.filterwarnings('ignore')"
      ]
    },
    {
      "cell_type": "code",
      "source": [
        "df=pd.read_csv(\"Employee.csv\")"
      ],
      "metadata": {
        "id": "DFxE_x0Of8TK"
      },
      "execution_count": null,
      "outputs": []
    },
    {
      "cell_type": "code",
      "source": [
        "df.head()"
      ],
      "metadata": {
        "id": "vw2pVvuggbYi"
      },
      "execution_count": null,
      "outputs": []
    },
    {
      "cell_type": "code",
      "source": [
        "df.tail()"
      ],
      "metadata": {
        "id": "kWF3WaHmgdUS"
      },
      "execution_count": null,
      "outputs": []
    },
    {
      "cell_type": "code",
      "source": [
        "df.info()\n",
        "df.describe()\n",
        "df['Attrition'].value_counts()"
      ],
      "metadata": {
        "id": "X5F-WoXBgQ2H"
      },
      "execution_count": null,
      "outputs": []
    },
    {
      "cell_type": "code",
      "source": [
        "sns.countplot(x='JobSatisfaction', hue='Attrition', data=df)\n",
        "plt.title(\"Attrition by Job Satisfaction\")\n",
        "plt.show()"
      ],
      "metadata": {
        "id": "mRH29geeglaF"
      },
      "execution_count": null,
      "outputs": []
    },
    {
      "source": [
        "# Convert columns with 'Yes'/'No' values to numerical representations (0 and 1)\n",
        "for column in df.select_dtypes(include=['object']).columns:\n",
        "    if df[column].isin(['Yes', 'No']).all():\n",
        "        df[column] = df[column].map({'Yes': 1, 'No': 0})\n",
        "\n",
        "# Calculate the correlation matrix only on numerical columns\n",
        "numerical_df = df.select_dtypes(include=np.number)\n",
        "corr_matrix = numerical_df.corr()\n",
        "\n",
        "# Generate the heatmap\n",
        "sns.heatmap(corr_matrix, annot=True, cmap='coolwarm')\n",
        "plt.show()"
      ],
      "cell_type": "code",
      "metadata": {
        "id": "JWWoejqBg2pi"
      },
      "execution_count": null,
      "outputs": []
    },
    {
      "cell_type": "code",
      "source": [
        "from sklearn.preprocessing import LabelEncoder\n",
        "le = LabelEncoder()\n",
        "df['Attrition'] = le.fit_transform(df['Attrition'])\n",
        "\n",
        "# Convert categorical columns\n",
        "df = pd.get_dummies(df, drop_first=True)\n"
      ],
      "metadata": {
        "id": "g_ONuYrAg9z-"
      },
      "execution_count": null,
      "outputs": []
    },
    {
      "cell_type": "code",
      "source": [
        "from sklearn.model_selection import train_test_split\n",
        "X = df.drop('Attrition', axis=1)\n",
        "y = df['Attrition']\n",
        "X_train, X_test, y_train, y_test = train_test_split(X, y, test_size=0.2, random_state=42)\n"
      ],
      "metadata": {
        "id": "27g380wphCWe"
      },
      "execution_count": null,
      "outputs": []
    },
    {
      "cell_type": "code",
      "source": [
        "\n",
        "from sklearn.model_selection import train_test_split\n",
        "from sklearn.ensemble import RandomForestClassifier\n",
        "\n",
        "# Train-test split\n",
        "X_train, X_test, y_train, y_test = train_test_split(X, y, test_size=0.2, random_state=42)\n",
        "\n",
        "# Train model\n",
        "rf = RandomForestClassifier(random_state=42)\n",
        "rf.fit(X_train, y_train)"
      ],
      "metadata": {
        "id": "0je-PH60mXN8"
      },
      "execution_count": null,
      "outputs": []
    },
    {
      "cell_type": "code",
      "source": [
        "from sklearn.ensemble import RandomForestClassifier\n",
        "from sklearn.linear_model import LogisticRegression\n",
        "from sklearn.metrics import classification_report\n",
        "\n",
        "rf = RandomForestClassifier(random_state=42)\n",
        "lr = LogisticRegression(max_iter=1000)\n",
        "\n",
        "rf.fit(X_train, y_train)\n",
        "lr.fit(X_train, y_train)\n",
        "\n",
        "print(\"Random Forest:\\n\", classification_report(y_test, rf.predict(X_test)))\n",
        "print(\"Logistic Regression:\\n\", classification_report(y_test, lr.predict(X_test)))\n"
      ],
      "metadata": {
        "id": "Ogs4X47ahF7s"
      },
      "execution_count": null,
      "outputs": []
    },
    {
      "cell_type": "code",
      "source": [
        "from sklearn.metrics import classification_report\n",
        "\n",
        "# Predictions and evaluation\n",
        "y_pred = rf.predict(X_test)\n",
        "print(classification_report(y_test, y_pred))"
      ],
      "metadata": {
        "id": "c4Ke3H-AkTrB"
      },
      "execution_count": null,
      "outputs": []
    },
    {
      "cell_type": "code",
      "source": [
        "\n",
        "# !pip install shap\n",
        "\n",
        "# 2. Import required libraries\n",
        "import shap\n",
        "import matplotlib.pyplot as plt\n",
        "\n",
        "# 3. Create a SHAP explainer for the trained Random Forest model\n",
        "explainer = shap.TreeExplainer(rf)  # rf is your trained RandomForestClassifier\n",
        "\n",
        "# 4. Calculate SHAP values for the test set\n",
        "shap_values = explainer.shap_values(X_test)\n",
        "\n",
        "\n"
      ],
      "metadata": {
        "id": "pKlLX6Gshqho"
      },
      "execution_count": null,
      "outputs": []
    },
    {
      "cell_type": "code",
      "source": [
        "import numpy as np\n",
        "\n",
        "# 1. Check type and shape\n",
        "print(\"Type of shap_values:\", type(shap_values))\n",
        "print(\"Length of shap_values (should be 2):\", len(shap_values))\n",
        "print(\"Shape of shap_values[1]:\", np.shape(shap_values[1]))\n",
        "print(\"Shape of X_test_df:\", X_test_df.shape)\n",
        "\n",
        "# 2. Check column alignment\n",
        "print(\"Are column names equal?\", all(X_test_df.columns == X.columns))\n",
        "\n",
        "# 3. Show sample column names\n",
        "print(\"First 5 columns:\", X_test_df.columns[:5].tolist())\n"
      ],
      "metadata": {
        "id": "c-in9bPCl3Wb"
      },
      "execution_count": null,
      "outputs": []
    },
    {
      "cell_type": "code",
      "source": [
        "import shap\n",
        "\n",
        "# Ensure test set is a DataFrame\n",
        "X_test_df = pd.DataFrame(X_test, columns=X.columns)\n",
        "\n",
        "# Tree explainer\n",
        "explainer = shap.TreeExplainer(rf)\n",
        "\n",
        "# Get SHAP values (single array for binary classification)\n",
        "shap_values = explainer.shap_values(X_test_df)\n",
        "\n",
        "# Check if it's a list or array\n",
        "if isinstance(shap_values, list):\n",
        "    print(\"Using shap_values[1] for class 1 (Attrition = Yes)\")\n",
        "    shap.summary_plot(shap_values[1], X_test_df)\n",
        "else:\n",
        "    print(\"Single array detected, plotting directly.\")\n",
        "    shap.summary_plot(shap_values, X_test_df)\n"
      ],
      "metadata": {
        "id": "jgRv4mAwlrxX"
      },
      "execution_count": null,
      "outputs": []
    },
    {
      "cell_type": "markdown",
      "source": [
        "HR insights derived from the model interpretability using SHAP values indicate that key factors contributing to employee attrition include overtime, job role (specifically Research Director), monthly income, and years at the company. Employees working overtime are more likely to leave, suggesting a need for better work-life balance. Certain roles, like Research Director, may have inherent challenges impacting retention. Lower income correlates with higher attrition, highlighting the importance of competitive compensation. Lastly, newer employees tend to have higher attrition rates, emphasizing the need for strong onboarding and mentorship programs. To address these factors, actionable retention strategies include monitoring and reducing mandatory overtime, ensuring competitive salaries and benefits through regular reviews, providing comprehensive onboarding and mentorship for new hires, and promoting career development opportunities for continued growth and advancement. By focusing on these strategies, organizations can potentially reduce employee attrition and retain valuable talent."
      ],
      "metadata": {
        "id": "HCCMIYpemjOQ"
      }
    }
  ]
}